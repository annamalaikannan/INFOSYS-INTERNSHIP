{
  "cells": [
    {
      "cell_type": "markdown",
      "metadata": {
        "id": "view-in-github",
        "colab_type": "text"
      },
      "source": [
        "<a href=\"https://colab.research.google.com/github/annamalaikannan/INFOSYS-INTERNSHIP/blob/main/Amazon_final.ipynb\" target=\"_parent\"><img src=\"https://colab.research.google.com/assets/colab-badge.svg\" alt=\"Open In Colab\"/></a>"
      ]
    },
    {
      "cell_type": "code",
      "execution_count": null,
      "id": "6318a78f",
      "metadata": {
        "id": "6318a78f"
      },
      "outputs": [],
      "source": [
        "from bs4 import BeautifulSoup\n",
        "import requests\n",
        "import numpy as np\n",
        "import pandas as pd"
      ]
    },
    {
      "cell_type": "code",
      "execution_count": null,
      "id": "f1929aaf",
      "metadata": {
        "id": "f1929aaf"
      },
      "outputs": [],
      "source": [
        "import schedule\n",
        "import time\n",
        "from datetime import datetime, timedelta"
      ]
    },
    {
      "cell_type": "code",
      "execution_count": null,
      "id": "9b9dc209",
      "metadata": {
        "id": "9b9dc209"
      },
      "outputs": [],
      "source": [
        "def get_title(soup):\n",
        "    title=soup.find('span', {'id':'productTitle'})\n",
        "    if title:\n",
        "        return title.text.strip()\n",
        "    else:\n",
        "        return None"
      ]
    },
    {
      "cell_type": "code",
      "execution_count": null,
      "id": "681c8f84",
      "metadata": {
        "id": "681c8f84"
      },
      "outputs": [],
      "source": [
        "def get_before_price(soup):\n",
        "    price_before=soup.find('span', {'class':'a-price a-text-price'})\n",
        "    if price_before:\n",
        "        text = price_before.text.strip()\n",
        "        result = text.split(\"₹\")[1]\n",
        "        result = \"₹\" + result\n",
        "        return result\n",
        "    else:\n",
        "        return None"
      ]
    },
    {
      "cell_type": "code",
      "execution_count": null,
      "id": "3d348ec0",
      "metadata": {
        "id": "3d348ec0"
      },
      "outputs": [],
      "source": [
        "def get_after_price(soup):\n",
        "    price_after=soup.find('span', {'class':'a-price-whole'})\n",
        "    if price_after:\n",
        "        text = price_after.text.strip('.')\n",
        "        result = \"₹\" + text\n",
        "        return result\n",
        "    else:\n",
        "        return None"
      ]
    },
    {
      "cell_type": "code",
      "execution_count": null,
      "id": "03728eb3",
      "metadata": {
        "id": "03728eb3"
      },
      "outputs": [],
      "source": [
        "def get_disc(soup):\n",
        "    disc=soup.find('span', {'class':'a-size-large a-color-price savingPriceOverride aok-align-center reinventPriceSavingsPercentageMargin savingsPercentage'})\n",
        "    if disc:\n",
        "        text = disc.text.lstrip('-')\n",
        "        return text.split()[0]\n",
        "    else:\n",
        "        return None"
      ]
    },
    {
      "cell_type": "code",
      "execution_count": null,
      "id": "7b2deb55",
      "metadata": {
        "id": "7b2deb55"
      },
      "outputs": [],
      "source": [
        "def get_rating(soup):\n",
        "    rating=soup.find('span', {'class':'a-icon-alt'})\n",
        "    if rating:\n",
        "        text = rating.text.strip()\n",
        "        return text.split()[0]\n",
        "    else:\n",
        "        return None"
      ]
    },
    {
      "cell_type": "code",
      "execution_count": null,
      "id": "93bab7c9",
      "metadata": {
        "id": "93bab7c9"
      },
      "outputs": [],
      "source": [
        "def get_reviews(soup):\n",
        "    reviews=soup.find('span', {'id':'acrCustomerReviewText'})\n",
        "    if reviews:\n",
        "        text = reviews.text.strip()\n",
        "        return text.split()[0]\n",
        "    return None"
      ]
    },
    {
      "cell_type": "code",
      "execution_count": null,
      "id": "d7cc92fd",
      "metadata": {
        "id": "d7cc92fd"
      },
      "outputs": [],
      "source": [
        "def get_avail(soup):\n",
        "    avail=soup.find('div', {'id':'availability'})\n",
        "    return avail.text.strip() if avail else 'Not Available'"
      ]
    },
    {
      "cell_type": "code",
      "execution_count": null,
      "id": "ce172ee6",
      "metadata": {
        "id": "ce172ee6"
      },
      "outputs": [],
      "source": [
        "def web_scraping():\n",
        "    base_url = 'https://www.amazon.in'\n",
        "    url='https://www.amazon.in/s?k=headphones&rh=p_n_availability%3A1318485031&dc&ds=v1%3AoWtjLHStC549MFFBdKBGJHo3n2XoMJZElN3kgJauGjQ&qid=1734452649&rnid=1318483031&ref=sr_nr_p_n_availability_2'\n",
        "    headers = {'user-agent':'Mozilla/5.0 (Macintosh; Intel Mac OS X 10_15_7) AppleWebKit/537.36 (KHTML, like Gecko) Chrome/131.0.0.0 Safari/537.36'}\n",
        "    response = requests.get(url, headers=headers)\n",
        "    cookies=response.cookies\n",
        "    soup=BeautifulSoup(response.content, 'html.parser')\n",
        "    links=soup.find_all('a', attrs={'class':'a-link-normal s-line-clamp-2 s-link-style a-text-normal' })\n",
        "    links_list=[link.get('href') for link in links]\n",
        "\n",
        "    data={'Title':[], 'Price before':[], 'Price after':[], 'Discount':[], 'Rating':[], 'Reviews':[], 'Available/not':[]}\n",
        "\n",
        "    for link in range(min(15, len(links_list))):\n",
        "        new_page=requests.get(base_url+links_list[link], headers=headers, cookies=cookies)\n",
        "        new_soup=BeautifulSoup(new_page.content, 'html.parser')\n",
        "\n",
        "        data['Title'].append(get_title(new_soup))\n",
        "        data['Price before'].append(get_before_price(new_soup))\n",
        "        data['Price after'].append(get_after_price(new_soup))\n",
        "        data['Discount'].append(get_disc(new_soup))\n",
        "        data['Rating'].append(get_rating(new_soup))\n",
        "        data['Reviews'].append(get_reviews(new_soup))\n",
        "        data['Available/not'].append(get_avail(new_soup))\n",
        "\n",
        "    df=pd.DataFrame(data)\n",
        "    df.to_csv('amazon_final.csv', index=False)\n",
        "\n",
        "    time_stamp = datetime.now().strftime('%Y-%m-%d_%H-%M-%S')\n",
        "    filename = f\"amazon_final_{time_stamp}.csv\"\n",
        "\n",
        "    df = pd.DataFrame(data)\n",
        "    df.to_csv(filename, index=False)\n",
        "    print(f\"Data saved to {filename}\")\n"
      ]
    },
    {
      "cell_type": "code",
      "execution_count": null,
      "id": "11180d0f",
      "metadata": {
        "id": "11180d0f"
      },
      "outputs": [],
      "source": [
        "def scrape_amazon():\n",
        "    print('Scraping Amazon...')\n",
        "    web_scraping()\n",
        "\n",
        "schedule.every(2).hours.do(scrape_amazon)\n",
        "\n",
        "while True:\n",
        "    schedule.run_pending()\n",
        "    time.sleep(60)"
      ]
    },
    {
      "cell_type": "code",
      "execution_count": null,
      "id": "b0e4eb13",
      "metadata": {
        "id": "b0e4eb13"
      },
      "outputs": [],
      "source": []
    }
  ],
  "metadata": {
    "kernelspec": {
      "display_name": "Python 3 (ipykernel)",
      "language": "python",
      "name": "python3"
    },
    "language_info": {
      "codemirror_mode": {
        "name": "ipython",
        "version": 3
      },
      "file_extension": ".py",
      "mimetype": "text/x-python",
      "name": "python",
      "nbconvert_exporter": "python",
      "pygments_lexer": "ipython3",
      "version": "3.11.5"
    },
    "colab": {
      "provenance": [],
      "include_colab_link": true
    }
  },
  "nbformat": 4,
  "nbformat_minor": 5
}